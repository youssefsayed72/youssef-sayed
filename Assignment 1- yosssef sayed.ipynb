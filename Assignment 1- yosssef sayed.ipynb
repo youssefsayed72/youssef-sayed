{
 "cells": [
  {
   "cell_type": "markdown",
   "id": "d1f7c17a-0bc0-411a-a6d0-0fe992931434",
   "metadata": {},
   "source": [
    "# Assignment 1"
   ]
  },
  {
   "cell_type": "markdown",
   "id": "ee939d62-242a-445c-be98-718965b92ed7",
   "metadata": {},
   "source": [
    "## Strings"
   ]
  },
  {
   "cell_type": "markdown",
   "id": "d01c040e-8274-4030-86e7-76d3f43e4118",
   "metadata": {},
   "source": [
    "Given the string 'hello' give an index command that returns 'e'. Enter your code in the cell below:"
   ]
  },
  {
   "cell_type": "code",
   "execution_count": 10,
   "id": "7930a5df-f109-495b-a685-74d2379f3419",
   "metadata": {
    "tags": []
   },
   "outputs": [],
   "source": [
    "s = \"hello\""
   ]
  },
  {
   "cell_type": "markdown",
   "id": "4f2d683f-f1c7-45d4-b186-f906951fa863",
   "metadata": {},
   "source": [
    "Reverse the string 'hello' using slicing:"
   ]
  },
  {
   "cell_type": "code",
   "execution_count": 11,
   "id": "6b5ca117-4413-4a83-b77f-df6445d5cbd4",
   "metadata": {},
   "outputs": [
    {
     "data": {
      "text/plain": [
       "'e'"
      ]
     },
     "execution_count": 11,
     "metadata": {},
     "output_type": "execute_result"
    }
   ],
   "source": [
    "s[1]"
   ]
  },
  {
   "cell_type": "markdown",
   "id": "303afbe9-9535-4e11-88b5-cb9e33dab1dd",
   "metadata": {},
   "source": [
    "Given the string hello, give two methods of producing the letter 'o' using indexing."
   ]
  },
  {
   "cell_type": "code",
   "execution_count": 12,
   "id": "afcc3788-6cb2-4558-b69f-1557c4c8aad0",
   "metadata": {},
   "outputs": [
    {
     "data": {
      "text/plain": [
       "'o'"
      ]
     },
     "execution_count": 12,
     "metadata": {},
     "output_type": "execute_result"
    }
   ],
   "source": [
    "s[4]"
   ]
  },
  {
   "cell_type": "code",
   "execution_count": 13,
   "id": "807bab7f-7a46-4686-a476-863f2b39f1c7",
   "metadata": {},
   "outputs": [
    {
     "data": {
      "text/plain": [
       "'o'"
      ]
     },
     "execution_count": 13,
     "metadata": {},
     "output_type": "execute_result"
    }
   ],
   "source": [
    "s[-1]"
   ]
  },
  {
   "cell_type": "markdown",
   "id": "78506144-50da-4ced-80db-87f2e2791da2",
   "metadata": {},
   "source": [
    "## Lists"
   ]
  },
  {
   "cell_type": "markdown",
   "id": "6629f8f0-bebd-417f-9fe9-9cfde3897f96",
   "metadata": {},
   "source": [
    "Build this list [0,0,0] two separate ways."
   ]
  },
  {
   "cell_type": "code",
   "execution_count": 16,
   "id": "d9cee141-cba0-424f-a670-3429d55f60dc",
   "metadata": {},
   "outputs": [],
   "source": [
    "my_list = [0,0,0]"
   ]
  },
  {
   "cell_type": "code",
   "execution_count": 17,
   "id": "53dccca8-2aba-4bd8-a5c8-c17bd8a1de6e",
   "metadata": {},
   "outputs": [
    {
     "data": {
      "text/plain": [
       "list"
      ]
     },
     "execution_count": 17,
     "metadata": {},
     "output_type": "execute_result"
    }
   ],
   "source": [
    "type (my_list)"
   ]
  },
  {
   "cell_type": "code",
   "execution_count": 19,
   "id": "180736de-fa06-46ef-a591-b7d5f87a925f",
   "metadata": {},
   "outputs": [],
   "source": [
    "a=[0]*3"
   ]
  },
  {
   "cell_type": "code",
   "execution_count": 20,
   "id": "3b0fe9a9-79f1-4b03-bcfa-5a433a76d62e",
   "metadata": {},
   "outputs": [
    {
     "data": {
      "text/plain": [
       "[0, 0, 0]"
      ]
     },
     "execution_count": 20,
     "metadata": {},
     "output_type": "execute_result"
    }
   ],
   "source": [
    "a"
   ]
  },
  {
   "cell_type": "code",
   "execution_count": 21,
   "id": "ad03f098-7bd9-4093-9dbd-eef987e312ae",
   "metadata": {},
   "outputs": [
    {
     "data": {
      "text/plain": [
       "list"
      ]
     },
     "execution_count": 21,
     "metadata": {},
     "output_type": "execute_result"
    }
   ],
   "source": [
    "type(a)"
   ]
  },
  {
   "cell_type": "markdown",
   "id": "13045b80-086e-4ff1-88df-3b2945433894",
   "metadata": {},
   "source": [
    "Reassign 'hello' in this nested list to say 'goodbye' instead:"
   ]
  },
  {
   "cell_type": "code",
   "execution_count": 22,
   "id": "18368054-405d-42e5-a7ee-3fc561f98a83",
   "metadata": {},
   "outputs": [],
   "source": [
    "list_3=[1,2,3,4,\"hello\"]"
   ]
  },
  {
   "cell_type": "code",
   "execution_count": 29,
   "id": "01af475a-262b-4758-b1df-e61bb8310b4f",
   "metadata": {},
   "outputs": [],
   "source": [
    "b=list_3[:4]"
   ]
  },
  {
   "cell_type": "code",
   "execution_count": 30,
   "id": "f8a606aa-841f-4400-8931-9777dcb5aba5",
   "metadata": {},
   "outputs": [
    {
     "data": {
      "text/plain": [
       "[1, 2, 3, 4]"
      ]
     },
     "execution_count": 30,
     "metadata": {},
     "output_type": "execute_result"
    }
   ],
   "source": [
    "b"
   ]
  },
  {
   "cell_type": "code",
   "execution_count": 32,
   "id": "c078e926-45ad-4c00-8c59-c488909c81e0",
   "metadata": {},
   "outputs": [],
   "source": [
    "b.append(\"goodbye\")"
   ]
  },
  {
   "cell_type": "code",
   "execution_count": 33,
   "id": "dbfdecdf-a1c0-46d0-b80b-1cc669e45262",
   "metadata": {},
   "outputs": [
    {
     "data": {
      "text/plain": [
       "[1, 2, 3, 4, 'goodbye']"
      ]
     },
     "execution_count": 33,
     "metadata": {},
     "output_type": "execute_result"
    }
   ],
   "source": [
    "b"
   ]
  },
  {
   "cell_type": "markdown",
   "id": "4c2e7b41-bdba-446d-840a-27b62f10d816",
   "metadata": {},
   "source": [
    "Sort the list below:"
   ]
  },
  {
   "cell_type": "code",
   "execution_count": 35,
   "id": "8e59677c-be7e-4413-aea1-86509dd22e75",
   "metadata": {},
   "outputs": [],
   "source": [
    "list4 = [5,3,4,6,1]\n"
   ]
  },
  {
   "cell_type": "code",
   "execution_count": 43,
   "id": "94bf69be-b2d4-4e86-8b19-8cf9cab625c3",
   "metadata": {},
   "outputs": [
    {
     "data": {
      "text/plain": [
       "list"
      ]
     },
     "execution_count": 43,
     "metadata": {},
     "output_type": "execute_result"
    }
   ],
   "source": [
    "type(list4)"
   ]
  },
  {
   "cell_type": "markdown",
   "id": "88b89592-a103-4f20-9ada-4a3f61e5b769",
   "metadata": {},
   "source": [
    "## Dictionaries"
   ]
  },
  {
   "cell_type": "markdown",
   "id": "e8103b30-c1e3-4ee8-b3d3-62f703dd38f6",
   "metadata": {},
   "source": [
    "Using keys and indexing, grab the 'hello' from the following dictionaries:"
   ]
  },
  {
   "cell_type": "code",
   "execution_count": 44,
   "id": "b1666a6e-37ee-463d-b6f7-154ea3d1deab",
   "metadata": {},
   "outputs": [],
   "source": [
    "d = {'simple_key':'hello'}\n"
   ]
  },
  {
   "cell_type": "code",
   "execution_count": 47,
   "id": "896debe1-6946-48be-9a37-274643175644",
   "metadata": {},
   "outputs": [
    {
     "data": {
      "text/plain": [
       "'hello'"
      ]
     },
     "execution_count": 47,
     "metadata": {},
     "output_type": "execute_result"
    }
   ],
   "source": [
    "d[\"simple_key\"]"
   ]
  },
  {
   "cell_type": "code",
   "execution_count": 54,
   "id": "e0dcbaad-f96e-4143-8a14-14f368117c13",
   "metadata": {},
   "outputs": [],
   "source": [
    "d = {'k1':{'k2':'hello'}}\n"
   ]
  },
  {
   "cell_type": "code",
   "execution_count": 61,
   "id": "97a24f27-c019-49c2-aaa5-c674044a32ac",
   "metadata": {},
   "outputs": [
    {
     "data": {
      "text/plain": [
       "'hello'"
      ]
     },
     "execution_count": 61,
     "metadata": {},
     "output_type": "execute_result"
    }
   ],
   "source": [
    "d['k1']['k2']"
   ]
  },
  {
   "cell_type": "code",
   "execution_count": 68,
   "id": "da784ade-2def-456b-8886-e888825eb0f1",
   "metadata": {},
   "outputs": [],
   "source": [
    "d = {'k1':[{'nest_key':['this is deep',['hello']]}]}\n",
    "\n"
   ]
  },
  {
   "cell_type": "code",
   "execution_count": 70,
   "id": "82e54c01-5059-4d9f-8097-d095bcf4e4f6",
   "metadata": {},
   "outputs": [
    {
     "data": {
      "text/plain": [
       "'hello'"
      ]
     },
     "execution_count": 70,
     "metadata": {},
     "output_type": "execute_result"
    }
   ],
   "source": [
    "d['k1'][0]['nest_key'][1][0]"
   ]
  },
  {
   "cell_type": "code",
   "execution_count": 72,
   "id": "c4f1d0c6-4e5c-4055-9df1-9039932e040b",
   "metadata": {},
   "outputs": [],
   "source": [
    "d = {'k1':[1,2,{'k2':['this is tricky',{'tough':[1,2,['hello']]}]}]}\n"
   ]
  },
  {
   "cell_type": "code",
   "execution_count": 73,
   "id": "fd07b6c6-4de9-431a-ab94-2a41393f26bd",
   "metadata": {},
   "outputs": [
    {
     "data": {
      "text/plain": [
       "'hello'"
      ]
     },
     "execution_count": 73,
     "metadata": {},
     "output_type": "execute_result"
    }
   ],
   "source": [
    "d['k1'][2]['k2'][1]['tough'][2][0]"
   ]
  },
  {
   "cell_type": "markdown",
   "id": "c3670558-21ab-4988-9679-785d239b82f2",
   "metadata": {},
   "source": [
    "** Given the variables:**\n",
    "\n",
    "    planet = \"Earth\"\n",
    "    diameter = 12742\n",
    "\n",
    "** Use .format() to print the following string: **\n",
    "\n",
    "    The diameter of Earth is 12742 kilometers."
   ]
  },
  {
   "cell_type": "code",
   "execution_count": 74,
   "id": "f9b8f2d4-8941-4dd8-b278-a77d7614ccd0",
   "metadata": {},
   "outputs": [
    {
     "name": "stdout",
     "output_type": "stream",
     "text": [
      "the diameter of Earth is 12742 kilometers.\n"
     ]
    }
   ],
   "source": [
    "print('the diameter of Earth is 12742 kilometers.')"
   ]
  },
  {
   "cell_type": "markdown",
   "id": "aeae9cb4-06fe-435f-9894-128d2b3f9d46",
   "metadata": {},
   "source": [
    "** Given this nested list, use indexing to grab the word \"hello\" **"
   ]
  },
  {
   "cell_type": "code",
   "execution_count": 80,
   "id": "a3a0aba7-aa11-46d4-ac48-2133e1b5c351",
   "metadata": {},
   "outputs": [],
   "source": [
    "lst = [1,2,[3,4],[5,[100,200,['hello']],23,11],1,7]"
   ]
  },
  {
   "cell_type": "code",
   "execution_count": 82,
   "id": "d1b29d4d-ba42-4c87-812b-0132567ce5c6",
   "metadata": {},
   "outputs": [
    {
     "data": {
      "text/plain": [
       "'hello'"
      ]
     },
     "execution_count": 82,
     "metadata": {},
     "output_type": "execute_result"
    }
   ],
   "source": [
    "lst[3][1][2][0]"
   ]
  },
  {
   "cell_type": "markdown",
   "id": "ed15f962-e53f-4082-afd6-63c06a474e96",
   "metadata": {},
   "source": [
    "** Given this nested dictionary grab the word \"hello\". **"
   ]
  },
  {
   "cell_type": "code",
   "execution_count": 85,
   "id": "1a12246f-f4ac-4f38-95c1-2bc14bd5a685",
   "metadata": {
    "tags": []
   },
   "outputs": [],
   "source": [
    "d = {'k1':[1,2,3,{'tricky':['oh','man','inception',{'target':[1,2,3,'hello']}]}]}"
   ]
  },
  {
   "cell_type": "code",
   "execution_count": 88,
   "id": "0888a402-fd8b-47d4-858a-dc01ff7f7636",
   "metadata": {},
   "outputs": [
    {
     "data": {
      "text/plain": [
       "'hello'"
      ]
     },
     "execution_count": 88,
     "metadata": {},
     "output_type": "execute_result"
    }
   ],
   "source": [
    "d['k1'][3]['tricky'][3]['target'][3]"
   ]
  },
  {
   "cell_type": "markdown",
   "id": "5fb1306f-8994-42fc-b7ef-3a8412c5f163",
   "metadata": {},
   "source": [
    "### Write a Python program to swap two variables.\n"
   ]
  },
  {
   "cell_type": "code",
   "execution_count": 89,
   "id": "b15ee3f7-99cd-4e47-8915-5163d325f58a",
   "metadata": {},
   "outputs": [],
   "source": [
    "x=15\n",
    "y=30"
   ]
  },
  {
   "cell_type": "code",
   "execution_count": 90,
   "id": "c7b5bebd-0d17-446c-80bb-8d67f999de34",
   "metadata": {},
   "outputs": [],
   "source": [
    "temp=x\n",
    "x=y\n",
    "y=temp"
   ]
  },
  {
   "cell_type": "code",
   "execution_count": 91,
   "id": "3ccbb254-e2b1-446a-98a1-e34763e5e62c",
   "metadata": {},
   "outputs": [
    {
     "name": "stdout",
     "output_type": "stream",
     "text": [
      "30\n"
     ]
    }
   ],
   "source": [
    "print(x)"
   ]
  },
  {
   "cell_type": "code",
   "execution_count": 92,
   "id": "7a6e3f71-dc2e-4428-b3de-f17818456a9f",
   "metadata": {},
   "outputs": [
    {
     "name": "stdout",
     "output_type": "stream",
     "text": [
      "15\n"
     ]
    }
   ],
   "source": [
    "print(y)"
   ]
  },
  {
   "cell_type": "code",
   "execution_count": null,
   "id": "a3ca4ea6-0c88-4d69-a2c3-6c14199ebe7a",
   "metadata": {},
   "outputs": [],
   "source": []
  }
 ],
 "metadata": {
  "kernelspec": {
   "display_name": "Python 3 (ipykernel)",
   "language": "python",
   "name": "python3"
  },
  "language_info": {
   "codemirror_mode": {
    "name": "ipython",
    "version": 3
   },
   "file_extension": ".py",
   "mimetype": "text/x-python",
   "name": "python",
   "nbconvert_exporter": "python",
   "pygments_lexer": "ipython3",
   "version": "3.9.13"
  }
 },
 "nbformat": 4,
 "nbformat_minor": 5
}
